{
 "cells": [
  {
   "cell_type": "code",
   "execution_count": 7,
   "metadata": {},
   "outputs": [],
   "source": [
    "import nltk\n",
    "import streamlit as st\n",
    "import random\n",
    "from sklearn.feature_extraction.text import TfidfVectorizer\n",
    "from sklearn.metrics.pairwise import cosine_similarity      \n",
    "import pandas as pd\n",
    "import warnings\n",
    "warnings.filterwarnings('ignore')\n",
    "# import spacy\n",
    "lemmatizer = nltk.stem.WordNetLemmatizer()\n",
    "# Download required NLTK data\n",
    "# nltk.download('stopwords')\n",
    "# nltk.download('punkt')\n",
    "# nltk.download('wordnet')"
   ]
  },
  {
   "cell_type": "code",
   "execution_count": 41,
   "metadata": {},
   "outputs": [
    {
     "data": {
      "text/html": [
       "<div>\n",
       "<style scoped>\n",
       "    .dataframe tbody tr th:only-of-type {\n",
       "        vertical-align: middle;\n",
       "    }\n",
       "\n",
       "    .dataframe tbody tr th {\n",
       "        vertical-align: top;\n",
       "    }\n",
       "\n",
       "    .dataframe thead th {\n",
       "        text-align: right;\n",
       "    }\n",
       "</style>\n",
       "<table border=\"1\" class=\"dataframe\">\n",
       "  <thead>\n",
       "    <tr style=\"text-align: right;\">\n",
       "      <th></th>\n",
       "      <th>0</th>\n",
       "      <th>1</th>\n",
       "    </tr>\n",
       "  </thead>\n",
       "  <tbody>\n",
       "    <tr>\n",
       "      <th>0</th>\n",
       "      <td>Customer</td>\n",
       "      <td>Hi, I'm looking to buy a new phone, and I'm i...</td>\n",
       "    </tr>\n",
       "    <tr>\n",
       "      <th>1</th>\n",
       "      <td>Sales Agent</td>\n",
       "      <td>Great, we have a wide range of Samsung phones...</td>\n",
       "    </tr>\n",
       "    <tr>\n",
       "      <th>2</th>\n",
       "      <td>Customer</td>\n",
       "      <td>Well, I want a phone with a good camera, long...</td>\n",
       "    </tr>\n",
       "    <tr>\n",
       "      <th>3</th>\n",
       "      <td>Sales Agent</td>\n",
       "      <td>Absolutely. We have a lot of great options th...</td>\n",
       "    </tr>\n",
       "    <tr>\n",
       "      <th>4</th>\n",
       "      <td>Customer</td>\n",
       "      <td>No, I haven't. Tell me more about it.</td>\n",
       "    </tr>\n",
       "    <tr>\n",
       "      <th>5</th>\n",
       "      <td>Sales Agent</td>\n",
       "      <td>The Galaxy S21 Ultra has a 108-megapixel came...</td>\n",
       "    </tr>\n",
       "    <tr>\n",
       "      <th>6</th>\n",
       "      <td>Customer</td>\n",
       "      <td>That sounds great. How much does it cost?</td>\n",
       "    </tr>\n",
       "    <tr>\n",
       "      <th>7</th>\n",
       "      <td>Sales Agent</td>\n",
       "      <td>The Galaxy S21 Ultra starts at $1,199, but we...</td>\n",
       "    </tr>\n",
       "    <tr>\n",
       "      <th>8</th>\n",
       "      <td>Customer</td>\n",
       "      <td>Okay, I'm interested. But I have a few more q...</td>\n",
       "    </tr>\n",
       "    <tr>\n",
       "      <th>9</th>\n",
       "      <td>Sales Agent</td>\n",
       "      <td>The Galaxy S21 Ultra comes with a standard on...</td>\n",
       "    </tr>\n",
       "  </tbody>\n",
       "</table>\n",
       "</div>"
      ],
      "text/plain": [
       "             0                                                  1\n",
       "0     Customer   Hi, I'm looking to buy a new phone, and I'm i...\n",
       "1  Sales Agent   Great, we have a wide range of Samsung phones...\n",
       "2     Customer   Well, I want a phone with a good camera, long...\n",
       "3  Sales Agent   Absolutely. We have a lot of great options th...\n",
       "4     Customer              No, I haven't. Tell me more about it.\n",
       "5  Sales Agent   The Galaxy S21 Ultra has a 108-megapixel came...\n",
       "6     Customer          That sounds great. How much does it cost?\n",
       "7  Sales Agent   The Galaxy S21 Ultra starts at $1,199, but we...\n",
       "8     Customer   Okay, I'm interested. But I have a few more q...\n",
       "9  Sales Agent   The Galaxy S21 Ultra comes with a standard on..."
      ]
     },
     "execution_count": 41,
     "metadata": {},
     "output_type": "execute_result"
    }
   ],
   "source": [
    "df = pd.read_csv('Samsung Dialog.txt', sep = ':', header = None)\n",
    "df.head(10)\n",
    "\n",
    "# This is a function from the pandas library used to read a comma-separated values (CSV) file into a DataFrame.\n",
    "# sep=':': This parameter specifies the delimiter used in the file. In this case, it's set to ':' because the data is separated by colons.\n",
    "# header=None: This parameter indicates that the file doesn't have a header row. "
   ]
  },
  {
   "cell_type": "code",
   "execution_count": 46,
   "metadata": {},
   "outputs": [],
   "source": [
    "# Iterate through rows and assign values to 'Row' and 'columns'\n",
    "\n",
    "cust = df.loc[df[0] == 'Customer']\n",
    "sales = df.loc[df[0] == 'Sales Agent']"
   ]
  },
  {
   "cell_type": "code",
   "execution_count": 47,
   "metadata": {},
   "outputs": [],
   "source": [
    "cust.rename(columns = {1: 'Customer'}, inplace = True)\n",
    "cust = cust[['Customer']].reset_index(drop = True)\n",
    "sales.rename(columns = {1: 'Sales Agent'}, inplace = True)\n",
    "sales = sales[['Sales Agent']].reset_index(drop = True)\n"
   ]
  },
  {
   "cell_type": "code",
   "execution_count": 48,
   "metadata": {},
   "outputs": [],
   "source": [
    "datax = pd.concat([cust, sales], axis = 1)"
   ]
  },
  {
   "cell_type": "code",
   "execution_count": 71,
   "metadata": {},
   "outputs": [
    {
     "data": {
      "text/html": [
       "<div>\n",
       "<style scoped>\n",
       "    .dataframe tbody tr th:only-of-type {\n",
       "        vertical-align: middle;\n",
       "    }\n",
       "\n",
       "    .dataframe tbody tr th {\n",
       "        vertical-align: top;\n",
       "    }\n",
       "\n",
       "    .dataframe thead th {\n",
       "        text-align: right;\n",
       "    }\n",
       "</style>\n",
       "<table border=\"1\" class=\"dataframe\">\n",
       "  <thead>\n",
       "    <tr style=\"text-align: right;\">\n",
       "      <th></th>\n",
       "      <th>Customer</th>\n",
       "      <th>Sales Agent</th>\n",
       "      <th>tokenized Questions</th>\n",
       "    </tr>\n",
       "  </thead>\n",
       "  <tbody>\n",
       "    <tr>\n",
       "      <th>0</th>\n",
       "      <td>Hi, I'm looking to buy a new phone, and I'm i...</td>\n",
       "      <td>Great, we have a wide range of Samsung phones...</td>\n",
       "      <td>hi i looking to buy a new phone and i interest...</td>\n",
       "    </tr>\n",
       "    <tr>\n",
       "      <th>1</th>\n",
       "      <td>Well, I want a phone with a good camera, long...</td>\n",
       "      <td>Absolutely. We have a lot of great options th...</td>\n",
       "      <td>well i want a phone with a good camera long ba...</td>\n",
       "    </tr>\n",
       "    <tr>\n",
       "      <th>2</th>\n",
       "      <td>No, I haven't. Tell me more about it.</td>\n",
       "      <td>The Galaxy S21 Ultra has a 108-megapixel came...</td>\n",
       "      <td>no i have tell me more about it</td>\n",
       "    </tr>\n",
       "    <tr>\n",
       "      <th>3</th>\n",
       "      <td>That sounds great. How much does it cost?</td>\n",
       "      <td>The Galaxy S21 Ultra starts at $1,199, but we...</td>\n",
       "      <td>that sound great how much doe it cost</td>\n",
       "    </tr>\n",
       "    <tr>\n",
       "      <th>4</th>\n",
       "      <td>Okay, I'm interested. But I have a few more q...</td>\n",
       "      <td>The Galaxy S21 Ultra comes with a standard on...</td>\n",
       "      <td>okay i interested but i have a few more questi...</td>\n",
       "    </tr>\n",
       "    <tr>\n",
       "      <th>5</th>\n",
       "      <td>That's good to know. And what about the opera...</td>\n",
       "      <td>Yes, the Galaxy S21 Ultra runs on Android 11,...</td>\n",
       "      <td>that good to know and what about the operating...</td>\n",
       "    </tr>\n",
       "    <tr>\n",
       "      <th>6</th>\n",
       "      <td>Okay, that's good. But I'm also interested in...</td>\n",
       "      <td>Absolutely. The Galaxy A52 is a great mid-ran...</td>\n",
       "      <td>okay that good but i also interested in some o...</td>\n",
       "    </tr>\n",
       "    <tr>\n",
       "      <th>7</th>\n",
       "      <td>That sounds like a good option for me. How mu...</td>\n",
       "      <td>The Galaxy A52 starts at $399, but again, we ...</td>\n",
       "      <td>that sound like a good option for me how much ...</td>\n",
       "    </tr>\n",
       "    <tr>\n",
       "      <th>8</th>\n",
       "      <td>Okay, I'll think about it. But can you also t...</td>\n",
       "      <td>Of course. The Galaxy Z Fold2 is a really uni...</td>\n",
       "      <td>okay i think about it but can you also tell me...</td>\n",
       "    </tr>\n",
       "    <tr>\n",
       "      <th>9</th>\n",
       "      <td>That sounds really cool, but it also sounds e...</td>\n",
       "      <td>The Galaxy Z Fold2 starts at $1,999, but agai...</td>\n",
       "      <td>that sound really cool but it also sound expen...</td>\n",
       "    </tr>\n",
       "  </tbody>\n",
       "</table>\n",
       "</div>"
      ],
      "text/plain": [
       "                                            Customer  \\\n",
       "0   Hi, I'm looking to buy a new phone, and I'm i...   \n",
       "1   Well, I want a phone with a good camera, long...   \n",
       "2              No, I haven't. Tell me more about it.   \n",
       "3          That sounds great. How much does it cost?   \n",
       "4   Okay, I'm interested. But I have a few more q...   \n",
       "5   That's good to know. And what about the opera...   \n",
       "6   Okay, that's good. But I'm also interested in...   \n",
       "7   That sounds like a good option for me. How mu...   \n",
       "8   Okay, I'll think about it. But can you also t...   \n",
       "9   That sounds really cool, but it also sounds e...   \n",
       "\n",
       "                                         Sales Agent  \\\n",
       "0   Great, we have a wide range of Samsung phones...   \n",
       "1   Absolutely. We have a lot of great options th...   \n",
       "2   The Galaxy S21 Ultra has a 108-megapixel came...   \n",
       "3   The Galaxy S21 Ultra starts at $1,199, but we...   \n",
       "4   The Galaxy S21 Ultra comes with a standard on...   \n",
       "5   Yes, the Galaxy S21 Ultra runs on Android 11,...   \n",
       "6   Absolutely. The Galaxy A52 is a great mid-ran...   \n",
       "7   The Galaxy A52 starts at $399, but again, we ...   \n",
       "8   Of course. The Galaxy Z Fold2 is a really uni...   \n",
       "9   The Galaxy Z Fold2 starts at $1,999, but agai...   \n",
       "\n",
       "                                 tokenized Questions  \n",
       "0  hi i looking to buy a new phone and i interest...  \n",
       "1  well i want a phone with a good camera long ba...  \n",
       "2                    no i have tell me more about it  \n",
       "3              that sound great how much doe it cost  \n",
       "4  okay i interested but i have a few more questi...  \n",
       "5  that good to know and what about the operating...  \n",
       "6  okay that good but i also interested in some o...  \n",
       "7  that sound like a good option for me how much ...  \n",
       "8  okay i think about it but can you also tell me...  \n",
       "9  that sound really cool but it also sound expen...  "
      ]
     },
     "execution_count": 71,
     "metadata": {},
     "output_type": "execute_result"
    }
   ],
   "source": [
    "# Define a function for text preprocessing (including lemmatization)\n",
    "def preprocess_text(text):\n",
    "    global tokens\n",
    "    # Identifies all sentences in the data\n",
    "    sentences = nltk.sent_tokenize(text)\n",
    "    \n",
    "    # Tokenize and lemmatize each word in each sentence\n",
    "    preprocessed_sentences = []\n",
    "    for sentence in sentences:\n",
    "        tokens = [lemmatizer.lemmatize(word.lower()) for word in nltk.word_tokenize(sentence) if word.isalnum()]\n",
    "        # Turns to basic root - each word in the tokenized word found in the tokenized sentence - if they are all alphanumeric \n",
    "        # The code above does the following:\n",
    "        # Identifies every word in the sentence \n",
    "        # Turns it to a lower case \n",
    "        # Lemmatizes it if the word is alphanumeric\n",
    "\n",
    "        preprocessed_sentence = ' '.join(tokens)\n",
    "        preprocessed_sentences.append(preprocessed_sentence)\n",
    "    \n",
    "    return ' '.join(preprocessed_sentences)\n",
    "\n",
    "\n",
    "datax['tokenized Questions'] = datax['Customer'].apply(preprocess_text)\n",
    "datax.head(10)"
   ]
  },
  {
   "cell_type": "code",
   "execution_count": 52,
   "metadata": {},
   "outputs": [
    {
     "data": {
      "text/plain": [
       "['hi i looking to buy a new phone and i interested in samsung phone',\n",
       " 'well i want a phone with a good camera long battery life and plenty of storage',\n",
       " 'no i have tell me more about it',\n",
       " 'that sound great how much doe it cost',\n",
       " 'okay i interested but i have a few more question what kind of warranty come with the phone',\n",
       " 'that good to know and what about the operating system doe it come with the latest version of android',\n",
       " 'okay that good but i also interested in some of the other samsung phone can you tell me more about the galaxy a52',\n",
       " 'that sound like a good option for me how much doe it cost',\n",
       " 'okay i think about it but can you also tell me about the galaxy z fold2 i heard a lot about it and i curious',\n",
       " 'that sound really cool but it also sound expensive how much doe it cost',\n",
       " 'hmm i not sure that a lot of money for a phone',\n",
       " 'okay can you tell me more about the galaxy a72',\n",
       " 'that sound like a great option for me how much doe it cost',\n",
       " 'okay i definitely consider it but before i make a decision can you tell me more about the financing option',\n",
       " 'that good to know and what if i have issue with the phone do you offer any support',\n",
       " 'okay that sound great i think i interested in the galaxy a72 how do i go about buying it',\n",
       " 'okay that sound simple enough thanks for all your help']"
      ]
     },
     "execution_count": 52,
     "metadata": {},
     "output_type": "execute_result"
    }
   ],
   "source": [
    "corpus = datax['tokenized Questions'].to_list()\n",
    "corpus\n",
    "\n",
    "#------corpus will be a Python list containing the values from the 'tokenized Questions' column of 'datax' wch is my dataframe. \n",
    "# Basically, this is the repository of the tokenized questions"
   ]
  },
  {
   "cell_type": "code",
   "execution_count": 53,
   "metadata": {},
   "outputs": [],
   "source": [
    "#---vectorisation\n",
    "# this is the process of converting words or text in a sentence into numbers\n",
    "\n",
    "tfidf_vector = TfidfVectorizer()\n",
    "v_corpus = tfidf_vector.fit_transform(corpus)\n",
    "#--Using Vectorizer to convert a collection of TEXT or RAW documents in (corpus) to a matrix of TF-IDF feature, i.e to numerical that the machine understand"
   ]
  },
  {
   "cell_type": "code",
   "execution_count": 72,
   "metadata": {},
   "outputs": [],
   "source": [
    "#TEXTING\n",
    "input_text = \"i want to buy a new phone\""
   ]
  },
  {
   "cell_type": "code",
   "execution_count": 73,
   "metadata": {},
   "outputs": [
    {
     "data": {
      "text/plain": [
       "'i want to buy a new phone'"
      ]
     },
     "execution_count": 73,
     "metadata": {},
     "output_type": "execute_result"
    }
   ],
   "source": [
    "user_input_processed = preprocess_text(input_text) \n",
    "user_input_processed\n",
    "#...preprocess the user\"s input using the preprocess_text function"
   ]
  },
  {
   "cell_type": "code",
   "execution_count": 74,
   "metadata": {},
   "outputs": [
    {
     "name": "stdout",
     "output_type": "stream",
     "text": [
      "  (0, 86)\t0.5010482537151495\n",
      "  (0, 84)\t0.39242273305294606\n",
      "  (0, 67)\t0.3047233842852462\n",
      "  (0, 58)\t0.5010482537151495\n",
      "  (0, 11)\t0.5010482537151495\n"
     ]
    }
   ],
   "source": [
    "v_input = tfidf_vector.transform([user_input_processed])\n",
    "print(v_input)\n",
    "\n",
    "#--using the TF-IDF vectorizer to convert it into a numerical representation "
   ]
  },
  {
   "cell_type": "code",
   "execution_count": 77,
   "metadata": {},
   "outputs": [
    {
     "data": {
      "text/plain": [
       "array([[0.57939188, 0.21521396, 0.        , 0.        , 0.06086571,\n",
       "        0.08912855, 0.05401137, 0.        , 0.        , 0.        ,\n",
       "        0.07389345, 0.        , 0.        , 0.        , 0.14831135,\n",
       "        0.        , 0.        ]])"
      ]
     },
     "execution_count": 77,
     "metadata": {},
     "output_type": "execute_result"
    }
   ],
   "source": [
    "most_similar = cosine_similarity(v_input, v_corpus)\n",
    "# most_similar.argmax()\n",
    "most_similar  \n",
    "# navigating into this to see the highest number, then re-comment the argmax to get the index postion"
   ]
  },
  {
   "cell_type": "code",
   "execution_count": 78,
   "metadata": {},
   "outputs": [
    {
     "data": {
      "text/plain": [
       "' Great, we have a wide range of Samsung phones to choose from. What features are you looking for in a phone?'"
      ]
     },
     "execution_count": 78,
     "metadata": {},
     "output_type": "execute_result"
    }
   ],
   "source": [
    "datax['Sales Agent'].iloc[0]"
   ]
  },
  {
   "cell_type": "code",
   "execution_count": 79,
   "metadata": {},
   "outputs": [
    {
     "data": {
      "text/plain": [
       "' Great, we have a wide range of Samsung phones to choose from. What features are you looking for in a phone?'"
      ]
     },
     "execution_count": 79,
     "metadata": {},
     "output_type": "execute_result"
    }
   ],
   "source": [
    "#-------------------------------STREAMLIT DESIGN-------------------------------\n",
    "\n",
    "\n",
    "\n",
    "# instead of running the code one by one, it can just be done in a function\n",
    "\n",
    "def response(user_input):\n",
    "    user_input_processed = preprocess_text(user_input)\n",
    "    v_input = tfidf_vector.transform([user_input_processed])\n",
    "    most_similar = cosine_similarity(v_input, v_corpus)\n",
    "    most_similar_index = most_similar.argmax()\n",
    "    \n",
    "    return datax['Sales Agent'].iloc[most_similar_index]\n",
    "response('i want to buy a new smartphone')"
   ]
  },
  {
   "cell_type": "code",
   "execution_count": 81,
   "metadata": {},
   "outputs": [
    {
     "name": "stdout",
     "output_type": "stream",
     "text": [
      "\t\t\t\t\tWelcome To Emjay ChatBot\n",
      "\n",
      "\n",
      "Hi user, This bot is created by Emjay, enjoy your usage\n",
      "ChatBot:  Absolutely. The Galaxy A52 is a great mid-range phone that has a lot of the same features as the Galaxy S21 Ultra, but at a more affordable price point. It has a 64-megapixel camera, a 4,500mAh battery, and up to 256GB of storage. It also runs on the latest version of Android and has a really nice, large display.\n",
      "Thank you for your usage. Bye\n"
     ]
    }
   ],
   "source": [
    "chatbot_greeting = [\n",
    "    \"Hello there, welcome to Emjay bot. pls enjoy your usage\",\n",
    "    \"Hi user, This bot is created by Emjay, enjoy your usage\",\n",
    "    \"Hi hi, How you dey my nigga\",\n",
    "    \"Alaye mi, Abeg enjoy your usage\",\n",
    "    \"Hey Hey, pls enjoy your usage\"    \n",
    "]\n",
    "\n",
    "user_greeting = [\"hi\", \"hello there\", \"hey\", \"hi there\"]\n",
    "exit_word = ['bye', 'thanks bye', 'exit', 'goodbye']\n",
    "\n",
    "\n",
    "print(f'\\t\\t\\t\\t\\tWelcome To Emjay ChatBot\\n\\n')\n",
    "while True:\n",
    "    user_q = input('Pls ask your Samsung questions: ')\n",
    "    if user_q in user_greeting:\n",
    "        print(random.choice(chatbot_greeting))\n",
    "    elif user_q in exit_word:\n",
    "    \n",
    "        print('Thank you for your usage. Bye')\n",
    "        break\n",
    "    else:\n",
    "        responses = response(user_q)\n",
    "        print(f'ChatBot: {responses}')"
   ]
  }
 ],
 "metadata": {
  "kernelspec": {
   "display_name": "Python 3",
   "language": "python",
   "name": "python3"
  },
  "language_info": {
   "codemirror_mode": {
    "name": "ipython",
    "version": 3
   },
   "file_extension": ".py",
   "mimetype": "text/x-python",
   "name": "python",
   "nbconvert_exporter": "python",
   "pygments_lexer": "ipython3",
   "version": "3.10.0"
  }
 },
 "nbformat": 4,
 "nbformat_minor": 2
}
